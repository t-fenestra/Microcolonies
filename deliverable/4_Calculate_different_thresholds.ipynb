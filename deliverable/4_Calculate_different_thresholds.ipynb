{
 "cells": [
  {
   "cell_type": "code",
   "execution_count": 1,
   "id": "reserved-navigator",
   "metadata": {
    "ExecuteTime": {
     "end_time": "2021-02-04T22:30:26.881794Z",
     "start_time": "2021-02-04T22:30:25.308675Z"
    }
   },
   "outputs": [],
   "source": [
    "from glob import glob\n",
    "import numpy as np\n",
    "import matplotlib.pyplot as plt\n",
    "import pandas as pd\n",
    "import seaborn as sns\n",
    "\n",
    "import skimage\n",
    "from skimage import util\n",
    "import skimage.io as io\n",
    "from skimage import exposure\n",
    "import cv2 as cv\n",
    "\n",
    "import sys\n",
    "\n",
    "plt.rcParams['figure.figsize'] = (5.0, 4.0) # set default size of plots\n",
    "plt.rcParams['image.interpolation'] = 'nearest'\n",
    "plt.rcParams['image.cmap'] = 'gray'"
   ]
  },
  {
   "cell_type": "code",
   "execution_count": 2,
   "id": "authentic-induction",
   "metadata": {
    "ExecuteTime": {
     "end_time": "2021-02-04T22:30:29.383441Z",
     "start_time": "2021-02-04T22:30:27.726880Z"
    }
   },
   "outputs": [],
   "source": [
    "SideLight_42835=io.imread(\"../data/42835_chanel_1_SideLight_corrected_GaussSmooth.tif\")\n",
    "BottomLight_42835=io.imread(\"../data/42835_chanel_2_BottomLight_corrected_GaussSmooth.tif\")\n",
    "SideLight_42834=io.imread(\"../data/42834_chanel_1_SideLight_corrected_GaussSmooth.tif\")\n",
    "BottomLight_42834=io.imread(\"../data/42834_chanel_2_BottomLight_corrected_GaussSmooth.tif\")\n",
    "\n",
    "images_dict={\"42835_chanel_1_SideLight\":SideLight_42835,\n",
    "             \"42835_chanel_2_BottomLight\":BottomLight_42835,\n",
    "             \"42834_chanel_1_SideLight\":SideLight_42834,\n",
    "             \"42834_chanel_2_BottomLight\":BottomLight_42834}"
   ]
  },
  {
   "cell_type": "code",
   "execution_count": null,
   "id": "double-subsection",
   "metadata": {
    "ExecuteTime": {
     "end_time": "2021-02-04T20:47:13.918369Z",
     "start_time": "2021-02-04T20:47:13.895291Z"
    }
   },
   "outputs": [],
   "source": [
    "SideLight_42834.dtype"
   ]
  },
  {
   "cell_type": "markdown",
   "id": "professional-encounter",
   "metadata": {
    "ExecuteTime": {
     "end_time": "2021-02-04T20:42:07.498196Z",
     "start_time": "2021-02-04T20:42:07.495752Z"
    }
   },
   "source": [
    "# Global thresholding\n",
    "## Multi Outsu"
   ]
  },
  {
   "cell_type": "code",
   "execution_count": null,
   "id": "mineral-welding",
   "metadata": {
    "ExecuteTime": {
     "end_time": "2021-02-04T20:54:55.004320Z",
     "start_time": "2021-02-04T20:54:55.000426Z"
    }
   },
   "outputs": [],
   "source": [
    "def Multi_Outsu(img):\n",
    "    from skimage.filters import threshold_multiotsu\n",
    "    thresh =  threshold_multiotsu(img,classes=3)\n",
    "    binary = np.where(img > thresh[0],1.0,0.0)\n",
    "    return util.img_as_ubyte(binary)"
   ]
  },
  {
   "cell_type": "code",
   "execution_count": null,
   "id": "hollow-material",
   "metadata": {
    "ExecuteTime": {
     "end_time": "2021-02-04T20:55:51.198708Z",
     "start_time": "2021-02-04T20:55:51.192873Z"
    }
   },
   "outputs": [],
   "source": [
    "def calculate_img_operation(img_stack,file_prefix):\n",
    "    \n",
    "    img_list=[img_stack[i] for i in range(img_stack.shape[0])]\n",
    "    \n",
    "    # count on several cores\n",
    "    import multiprocess\n",
    "    number_of_cpus = multiprocess.cpu_count(); \n",
    "    pool = multiprocess.Pool(processes=number_of_cpus)\n",
    "    result = pool.map(Multi_Outsu,img_list)\n",
    "    \n",
    "    # save to the folder\n",
    "    file_name_prefix=file_prefix+\"corrected_GaussSmooth_Multi Outsu.tif\"\n",
    "\n",
    "    smoothed=np.zeros_like(img_stack)\n",
    "    for frame in range(img_stack.shape[0]):\n",
    "        smoothed[frame]=result[frame]\n",
    "\n",
    "    io.imsave(\"../data/\"+file_name_prefix,smoothed,check_contrast=False,plugin='tifffile')"
   ]
  },
  {
   "cell_type": "code",
   "execution_count": null,
   "id": "defined-addition",
   "metadata": {
    "ExecuteTime": {
     "end_time": "2021-02-04T20:57:34.120003Z",
     "start_time": "2021-02-04T20:55:54.252630Z"
    }
   },
   "outputs": [],
   "source": [
    "for (name,images) in images_dict.items():\n",
    "        calculate_img_operation(images,name)"
   ]
  },
  {
   "cell_type": "markdown",
   "id": "recovered-native",
   "metadata": {},
   "source": [
    "## Triangle"
   ]
  },
  {
   "cell_type": "code",
   "execution_count": null,
   "id": "southwest-benefit",
   "metadata": {
    "ExecuteTime": {
     "end_time": "2021-02-04T21:53:15.605010Z",
     "start_time": "2021-02-04T21:53:15.600957Z"
    }
   },
   "outputs": [],
   "source": [
    "def Triangle(img):\n",
    "    from skimage.filters import threshold_triangle\n",
    "    thresh = threshold_triangle(img)\n",
    "    #print(thresh)\n",
    "    binary = np.where(img > thresh,1.0,0.0)\n",
    "    #print(binary.dtype)\n",
    "    return util.img_as_ubyte(binary)"
   ]
  },
  {
   "cell_type": "code",
   "execution_count": null,
   "id": "cloudy-telephone",
   "metadata": {
    "ExecuteTime": {
     "end_time": "2021-02-04T21:53:17.881052Z",
     "start_time": "2021-02-04T21:53:17.876038Z"
    }
   },
   "outputs": [],
   "source": [
    "def calculate_img_operation(img_stack,file_prefix):\n",
    "    \n",
    "    img_list=[img_stack[i] for i in range(img_stack.shape[0])]\n",
    "    \n",
    "    # count on several cores\n",
    "    import multiprocess\n",
    "    number_of_cpus = multiprocess.cpu_count(); \n",
    "    pool = multiprocess.Pool(processes=number_of_cpus)\n",
    "    result = pool.map(Triangle,img_list)\n",
    "    \n",
    "    # save to the folder\n",
    "    file_name_prefix=file_prefix+\"corrected_GaussSmooth_Triangle.tif\"\n",
    "\n",
    "    smoothed=np.zeros_like(img_stack)\n",
    "    for frame in range(img_stack.shape[0]):\n",
    "        smoothed[frame]=result[frame]\n",
    "\n",
    "    io.imsave(\"../data/\"+file_name_prefix,smoothed,check_contrast=False,plugin='tifffile')"
   ]
  },
  {
   "cell_type": "code",
   "execution_count": null,
   "id": "hairy-stylus",
   "metadata": {
    "ExecuteTime": {
     "end_time": "2021-02-04T21:53:51.950074Z",
     "start_time": "2021-02-04T21:53:18.951121Z"
    }
   },
   "outputs": [],
   "source": [
    "for (name,images) in images_dict.items():\n",
    "        calculate_img_operation(images,name)"
   ]
  },
  {
   "cell_type": "markdown",
   "id": "above-wellington",
   "metadata": {},
   "source": [
    "## Mean"
   ]
  },
  {
   "cell_type": "code",
   "execution_count": null,
   "id": "embedded-florence",
   "metadata": {
    "ExecuteTime": {
     "end_time": "2021-02-04T21:56:46.596300Z",
     "start_time": "2021-02-04T21:56:46.592567Z"
    }
   },
   "outputs": [],
   "source": [
    "def Mean_th(img):\n",
    "    from skimage.filters import threshold_mean\n",
    "    thresh = threshold_mean(img)\n",
    "    binary = np.where(img > thresh,1.0,0.0)\n",
    "    return util.img_as_ubyte(binary)"
   ]
  },
  {
   "cell_type": "code",
   "execution_count": null,
   "id": "acknowledged-prevention",
   "metadata": {
    "ExecuteTime": {
     "end_time": "2021-02-04T21:56:53.647440Z",
     "start_time": "2021-02-04T21:56:53.642034Z"
    }
   },
   "outputs": [],
   "source": [
    "def calculate_img_operation(img_stack,file_prefix):\n",
    "    \n",
    "    img_list=[img_stack[i] for i in range(img_stack.shape[0])]\n",
    "    \n",
    "    # count on several cores\n",
    "    import multiprocess\n",
    "    number_of_cpus = multiprocess.cpu_count(); \n",
    "    pool = multiprocess.Pool(processes=number_of_cpus)\n",
    "    result = pool.map(Mean_th,img_list)\n",
    "    \n",
    "    # save to the folder\n",
    "    file_name_prefix=file_prefix+\"corrected_GaussSmooth_Mean.tif\"\n",
    "\n",
    "    smoothed=np.zeros_like(img_stack)\n",
    "    for frame in range(img_stack.shape[0]):\n",
    "        smoothed[frame]=result[frame]\n",
    "\n",
    "    io.imsave(\"../data/\"+file_name_prefix,smoothed,check_contrast=False,plugin='tifffile')"
   ]
  },
  {
   "cell_type": "code",
   "execution_count": null,
   "id": "intended-hartford",
   "metadata": {
    "ExecuteTime": {
     "end_time": "2021-02-04T21:57:33.591456Z",
     "start_time": "2021-02-04T21:56:55.651597Z"
    }
   },
   "outputs": [],
   "source": [
    "for (name,images) in images_dict.items():\n",
    "        calculate_img_operation(images,name)"
   ]
  },
  {
   "cell_type": "markdown",
   "id": "virgin-instrumentation",
   "metadata": {
    "ExecuteTime": {
     "end_time": "2021-02-04T20:44:57.688552Z",
     "start_time": "2021-02-04T20:44:57.686015Z"
    }
   },
   "source": [
    "# Local thresholding"
   ]
  },
  {
   "cell_type": "code",
   "execution_count": null,
   "id": "dress-funeral",
   "metadata": {
    "ExecuteTime": {
     "end_time": "2021-02-04T22:04:15.385212Z",
     "start_time": "2021-02-04T22:04:15.381849Z"
    }
   },
   "outputs": [],
   "source": [
    "def Local_gauss(img,window_size=101):\n",
    "    from skimage.filters import threshold_local\n",
    "    binary= img > threshold_local(img, window_size, 'gaussian')\n",
    "    return util.img_as_ubyte(binary)"
   ]
  },
  {
   "cell_type": "code",
   "execution_count": null,
   "id": "reported-benjamin",
   "metadata": {
    "ExecuteTime": {
     "end_time": "2021-02-04T22:04:18.423646Z",
     "start_time": "2021-02-04T22:04:18.418506Z"
    }
   },
   "outputs": [],
   "source": [
    "def calculate_img_operation(img_stack,file_prefix):\n",
    "    \n",
    "    img_list=[img_stack[i] for i in range(img_stack.shape[0])]\n",
    "    \n",
    "    # count on several cores\n",
    "    import multiprocess\n",
    "    number_of_cpus = multiprocess.cpu_count(); \n",
    "    pool = multiprocess.Pool(processes=number_of_cpus)\n",
    "    result = pool.map(Local_gauss,img_list)\n",
    "    \n",
    "    # save to the folder\n",
    "    file_name_prefix=file_prefix+\"corrected_GaussSmooth_Local_Gauss.tif\"\n",
    "\n",
    "    smoothed=np.zeros_like(img_stack)\n",
    "    for frame in range(img_stack.shape[0]):\n",
    "        smoothed[frame]=result[frame]\n",
    "\n",
    "    io.imsave(\"../data/\"+file_name_prefix,smoothed,check_contrast=False,plugin='tifffile')"
   ]
  },
  {
   "cell_type": "code",
   "execution_count": null,
   "id": "incomplete-spice",
   "metadata": {
    "ExecuteTime": {
     "end_time": "2021-02-04T22:05:56.450969Z",
     "start_time": "2021-02-04T22:04:19.647278Z"
    }
   },
   "outputs": [],
   "source": [
    "for (name,images) in images_dict.items():\n",
    "        calculate_img_operation(images,name)"
   ]
  },
  {
   "cell_type": "markdown",
   "id": "twenty-estate",
   "metadata": {
    "ExecuteTime": {
     "end_time": "2021-02-04T22:09:11.321443Z",
     "start_time": "2021-02-04T22:09:11.318738Z"
    }
   },
   "source": [
    "## Local mean\n"
   ]
  },
  {
   "cell_type": "code",
   "execution_count": null,
   "id": "ideal-dakota",
   "metadata": {
    "ExecuteTime": {
     "end_time": "2021-02-04T22:11:06.505760Z",
     "start_time": "2021-02-04T22:11:06.502778Z"
    }
   },
   "outputs": [],
   "source": [
    "def Local_mean(img,window_size=51):\n",
    "    from skimage.filters import threshold_local\n",
    "    binary= img > threshold_local(img, window_size, 'mean')\n",
    "    return util.img_as_ubyte(binary)"
   ]
  },
  {
   "cell_type": "code",
   "execution_count": null,
   "id": "quarterly-nashville",
   "metadata": {
    "ExecuteTime": {
     "end_time": "2021-02-04T22:11:11.028816Z",
     "start_time": "2021-02-04T22:11:11.022379Z"
    }
   },
   "outputs": [],
   "source": [
    "def calculate_img_operation(img_stack,file_prefix):\n",
    "    \n",
    "    img_list=[img_stack[i] for i in range(img_stack.shape[0])]\n",
    "    \n",
    "    # count on several cores\n",
    "    import multiprocess\n",
    "    number_of_cpus = multiprocess.cpu_count(); \n",
    "    pool = multiprocess.Pool(processes=number_of_cpus)\n",
    "    result = pool.map(Local_mean,img_list)\n",
    "    \n",
    "    # save to the folder\n",
    "    file_name_prefix=file_prefix+\"corrected_GaussSmooth_Local_Mean.tif\"\n",
    "\n",
    "    smoothed=np.zeros_like(img_stack)\n",
    "    for frame in range(img_stack.shape[0]):\n",
    "        smoothed[frame]=result[frame]\n",
    "\n",
    "    io.imsave(\"../data/\"+file_name_prefix,smoothed,check_contrast=False,plugin='tifffile')"
   ]
  },
  {
   "cell_type": "code",
   "execution_count": null,
   "id": "oriented-radar",
   "metadata": {
    "ExecuteTime": {
     "end_time": "2021-02-04T22:13:32.226981Z",
     "start_time": "2021-02-04T22:11:11.115103Z"
    }
   },
   "outputs": [],
   "source": [
    "for (name,images) in images_dict.items():\n",
    "        calculate_img_operation(images,name)"
   ]
  },
  {
   "cell_type": "markdown",
   "id": "right-chick",
   "metadata": {},
   "source": [
    "## Local median"
   ]
  },
  {
   "cell_type": "code",
   "execution_count": 3,
   "id": "substantial-surrey",
   "metadata": {
    "ExecuteTime": {
     "end_time": "2021-02-04T22:30:50.355889Z",
     "start_time": "2021-02-04T22:30:50.352722Z"
    }
   },
   "outputs": [],
   "source": [
    "def Local_median(img,window_size=51):\n",
    "    from skimage.filters import threshold_local\n",
    "    binary= img > threshold_local(img, window_size,'median')\n",
    "    return util.img_as_ubyte(binary)"
   ]
  },
  {
   "cell_type": "code",
   "execution_count": 4,
   "id": "dress-dining",
   "metadata": {
    "ExecuteTime": {
     "end_time": "2021-02-04T22:30:53.075140Z",
     "start_time": "2021-02-04T22:30:53.067925Z"
    }
   },
   "outputs": [],
   "source": [
    "def calculate_img_operation(img_stack,file_prefix):\n",
    "    \n",
    "    img_list=[img_stack[i] for i in range(img_stack.shape[0])]\n",
    "    \n",
    "    # count on several cores\n",
    "    import multiprocess\n",
    "    number_of_cpus = multiprocess.cpu_count(); \n",
    "    pool = multiprocess.Pool(processes=number_of_cpus)\n",
    "    result = pool.map(Local_median,img_list)\n",
    "    \n",
    "    # save to the folder\n",
    "    file_name_prefix=file_prefix+\"corrected_GaussSmooth_Local_Median.tif\"\n",
    "\n",
    "    smoothed=np.zeros_like(img_stack)\n",
    "    for frame in range(img_stack.shape[0]):\n",
    "        smoothed[frame]=result[frame]\n",
    "\n",
    "    io.imsave(\"../data/\"+file_name_prefix,smoothed,check_contrast=False,plugin='tifffile')"
   ]
  },
  {
   "cell_type": "code",
   "execution_count": 5,
   "id": "composed-times",
   "metadata": {
    "ExecuteTime": {
     "end_time": "2021-02-05T00:04:43.027743Z",
     "start_time": "2021-02-04T22:30:56.971967Z"
    }
   },
   "outputs": [
    {
     "ename": "OSError",
     "evalue": "[Errno 28] No space left on device",
     "output_type": "error",
     "traceback": [
      "\u001b[0;31m---------------------------------------------------------------------------\u001b[0m",
      "\u001b[0;31mOSError\u001b[0m                                   Traceback (most recent call last)",
      "\u001b[0;32m~/anaconda3/envs/omeropy/lib/python3.6/site-packages/tifffile/tifffile.py\u001b[0m in \u001b[0;36mwrite_array\u001b[0;34m(self, data)\u001b[0m\n\u001b[1;32m   7539\u001b[0m         \u001b[0;32mtry\u001b[0m\u001b[0;34m:\u001b[0m\u001b[0;34m\u001b[0m\u001b[0;34m\u001b[0m\u001b[0m\n\u001b[0;32m-> 7540\u001b[0;31m             \u001b[0mdata\u001b[0m\u001b[0;34m.\u001b[0m\u001b[0mtofile\u001b[0m\u001b[0;34m(\u001b[0m\u001b[0mself\u001b[0m\u001b[0;34m.\u001b[0m\u001b[0m_fh\u001b[0m\u001b[0;34m)\u001b[0m\u001b[0;34m\u001b[0m\u001b[0;34m\u001b[0m\u001b[0m\n\u001b[0m\u001b[1;32m   7541\u001b[0m         \u001b[0;32mexcept\u001b[0m \u001b[0mException\u001b[0m\u001b[0;34m:\u001b[0m\u001b[0;34m\u001b[0m\u001b[0;34m\u001b[0m\u001b[0m\n",
      "\u001b[0;31mOSError\u001b[0m: 401043456 requested and 152807424 written",
      "\nDuring handling of the above exception, another exception occurred:\n",
      "\u001b[0;31mOSError\u001b[0m                                   Traceback (most recent call last)",
      "\u001b[0;32m<ipython-input-5-47ad92e063a0>\u001b[0m in \u001b[0;36m<module>\u001b[0;34m\u001b[0m\n\u001b[1;32m      1\u001b[0m \u001b[0;32mfor\u001b[0m \u001b[0;34m(\u001b[0m\u001b[0mname\u001b[0m\u001b[0;34m,\u001b[0m\u001b[0mimages\u001b[0m\u001b[0;34m)\u001b[0m \u001b[0;32min\u001b[0m \u001b[0mimages_dict\u001b[0m\u001b[0;34m.\u001b[0m\u001b[0mitems\u001b[0m\u001b[0;34m(\u001b[0m\u001b[0;34m)\u001b[0m\u001b[0;34m:\u001b[0m\u001b[0;34m\u001b[0m\u001b[0;34m\u001b[0m\u001b[0m\n\u001b[0;32m----> 2\u001b[0;31m         \u001b[0mcalculate_img_operation\u001b[0m\u001b[0;34m(\u001b[0m\u001b[0mimages\u001b[0m\u001b[0;34m,\u001b[0m\u001b[0mname\u001b[0m\u001b[0;34m)\u001b[0m\u001b[0;34m\u001b[0m\u001b[0;34m\u001b[0m\u001b[0m\n\u001b[0m",
      "\u001b[0;32m<ipython-input-4-8d0b0ab4b8b5>\u001b[0m in \u001b[0;36mcalculate_img_operation\u001b[0;34m(img_stack, file_prefix)\u001b[0m\n\u001b[1;32m     16\u001b[0m         \u001b[0msmoothed\u001b[0m\u001b[0;34m[\u001b[0m\u001b[0mframe\u001b[0m\u001b[0;34m]\u001b[0m\u001b[0;34m=\u001b[0m\u001b[0mresult\u001b[0m\u001b[0;34m[\u001b[0m\u001b[0mframe\u001b[0m\u001b[0;34m]\u001b[0m\u001b[0;34m\u001b[0m\u001b[0;34m\u001b[0m\u001b[0m\n\u001b[1;32m     17\u001b[0m \u001b[0;34m\u001b[0m\u001b[0m\n\u001b[0;32m---> 18\u001b[0;31m     \u001b[0mio\u001b[0m\u001b[0;34m.\u001b[0m\u001b[0mimsave\u001b[0m\u001b[0;34m(\u001b[0m\u001b[0;34m\"../data/\"\u001b[0m\u001b[0;34m+\u001b[0m\u001b[0mfile_name_prefix\u001b[0m\u001b[0;34m,\u001b[0m\u001b[0msmoothed\u001b[0m\u001b[0;34m,\u001b[0m\u001b[0mcheck_contrast\u001b[0m\u001b[0;34m=\u001b[0m\u001b[0;32mFalse\u001b[0m\u001b[0;34m,\u001b[0m\u001b[0mplugin\u001b[0m\u001b[0;34m=\u001b[0m\u001b[0;34m'tifffile'\u001b[0m\u001b[0;34m)\u001b[0m\u001b[0;34m\u001b[0m\u001b[0;34m\u001b[0m\u001b[0m\n\u001b[0m",
      "\u001b[0;32m~/anaconda3/envs/omeropy/lib/python3.6/site-packages/skimage/io/_io.py\u001b[0m in \u001b[0;36mimsave\u001b[0;34m(fname, arr, plugin, check_contrast, **plugin_args)\u001b[0m\n\u001b[1;32m    134\u001b[0m     \u001b[0;32mif\u001b[0m \u001b[0mcheck_contrast\u001b[0m \u001b[0;32mand\u001b[0m \u001b[0mis_low_contrast\u001b[0m\u001b[0;34m(\u001b[0m\u001b[0marr\u001b[0m\u001b[0;34m)\u001b[0m\u001b[0;34m:\u001b[0m\u001b[0;34m\u001b[0m\u001b[0;34m\u001b[0m\u001b[0m\n\u001b[1;32m    135\u001b[0m         \u001b[0mwarn\u001b[0m\u001b[0;34m(\u001b[0m\u001b[0;34m'%s is a low contrast image'\u001b[0m \u001b[0;34m%\u001b[0m \u001b[0mfname\u001b[0m\u001b[0;34m)\u001b[0m\u001b[0;34m\u001b[0m\u001b[0;34m\u001b[0m\u001b[0m\n\u001b[0;32m--> 136\u001b[0;31m     \u001b[0;32mreturn\u001b[0m \u001b[0mcall_plugin\u001b[0m\u001b[0;34m(\u001b[0m\u001b[0;34m'imsave'\u001b[0m\u001b[0;34m,\u001b[0m \u001b[0mfname\u001b[0m\u001b[0;34m,\u001b[0m \u001b[0marr\u001b[0m\u001b[0;34m,\u001b[0m \u001b[0mplugin\u001b[0m\u001b[0;34m=\u001b[0m\u001b[0mplugin\u001b[0m\u001b[0;34m,\u001b[0m \u001b[0;34m**\u001b[0m\u001b[0mplugin_args\u001b[0m\u001b[0;34m)\u001b[0m\u001b[0;34m\u001b[0m\u001b[0;34m\u001b[0m\u001b[0m\n\u001b[0m\u001b[1;32m    137\u001b[0m \u001b[0;34m\u001b[0m\u001b[0m\n\u001b[1;32m    138\u001b[0m \u001b[0;34m\u001b[0m\u001b[0m\n",
      "\u001b[0;32m~/anaconda3/envs/omeropy/lib/python3.6/site-packages/skimage/io/manage_plugins.py\u001b[0m in \u001b[0;36mcall_plugin\u001b[0;34m(kind, *args, **kwargs)\u001b[0m\n\u001b[1;32m    207\u001b[0m                                (plugin, kind))\n\u001b[1;32m    208\u001b[0m \u001b[0;34m\u001b[0m\u001b[0m\n\u001b[0;32m--> 209\u001b[0;31m     \u001b[0;32mreturn\u001b[0m \u001b[0mfunc\u001b[0m\u001b[0;34m(\u001b[0m\u001b[0;34m*\u001b[0m\u001b[0margs\u001b[0m\u001b[0;34m,\u001b[0m \u001b[0;34m**\u001b[0m\u001b[0mkwargs\u001b[0m\u001b[0;34m)\u001b[0m\u001b[0;34m\u001b[0m\u001b[0;34m\u001b[0m\u001b[0m\n\u001b[0m\u001b[1;32m    210\u001b[0m \u001b[0;34m\u001b[0m\u001b[0m\n\u001b[1;32m    211\u001b[0m \u001b[0;34m\u001b[0m\u001b[0m\n",
      "\u001b[0;32m~/anaconda3/envs/omeropy/lib/python3.6/site-packages/tifffile/tifffile.py\u001b[0m in \u001b[0;36mimwrite\u001b[0;34m(file, data, shape, dtype, **kwargs)\u001b[0m\n\u001b[1;32m    788\u001b[0m \u001b[0;34m\u001b[0m\u001b[0m\n\u001b[1;32m    789\u001b[0m     \u001b[0;32mwith\u001b[0m \u001b[0mTiffWriter\u001b[0m\u001b[0;34m(\u001b[0m\u001b[0mfile\u001b[0m\u001b[0;34m,\u001b[0m \u001b[0;34m**\u001b[0m\u001b[0mtifargs\u001b[0m\u001b[0;34m)\u001b[0m \u001b[0;32mas\u001b[0m \u001b[0mtif\u001b[0m\u001b[0;34m:\u001b[0m\u001b[0;34m\u001b[0m\u001b[0;34m\u001b[0m\u001b[0m\n\u001b[0;32m--> 790\u001b[0;31m         \u001b[0;32mreturn\u001b[0m \u001b[0mtif\u001b[0m\u001b[0;34m.\u001b[0m\u001b[0msave\u001b[0m\u001b[0;34m(\u001b[0m\u001b[0mdata\u001b[0m\u001b[0;34m,\u001b[0m \u001b[0mshape\u001b[0m\u001b[0;34m,\u001b[0m \u001b[0mdtype\u001b[0m\u001b[0;34m,\u001b[0m \u001b[0;34m**\u001b[0m\u001b[0mkwargs\u001b[0m\u001b[0;34m)\u001b[0m\u001b[0;34m\u001b[0m\u001b[0;34m\u001b[0m\u001b[0m\n\u001b[0m\u001b[1;32m    791\u001b[0m \u001b[0;34m\u001b[0m\u001b[0m\n\u001b[1;32m    792\u001b[0m \u001b[0;34m\u001b[0m\u001b[0m\n",
      "\u001b[0;32m~/anaconda3/envs/omeropy/lib/python3.6/site-packages/tifffile/tifffile.py\u001b[0m in \u001b[0;36msave\u001b[0;34m(***failed resolving arguments***)\u001b[0m\n\u001b[1;32m   2170\u001b[0m                         \u001b[0mfh\u001b[0m\u001b[0;34m.\u001b[0m\u001b[0mwrite_array\u001b[0m\u001b[0;34m(\u001b[0m\u001b[0mpagedata\u001b[0m\u001b[0;34m.\u001b[0m\u001b[0mreshape\u001b[0m\u001b[0;34m(\u001b[0m\u001b[0mstoredshape\u001b[0m\u001b[0;34m[\u001b[0m\u001b[0;36m1\u001b[0m\u001b[0;34m:\u001b[0m\u001b[0;34m]\u001b[0m\u001b[0;34m)\u001b[0m\u001b[0;34m)\u001b[0m\u001b[0;34m\u001b[0m\u001b[0;34m\u001b[0m\u001b[0m\n\u001b[1;32m   2171\u001b[0m                 \u001b[0;32melse\u001b[0m\u001b[0;34m:\u001b[0m\u001b[0;34m\u001b[0m\u001b[0;34m\u001b[0m\u001b[0m\n\u001b[0;32m-> 2172\u001b[0;31m                     \u001b[0mfh\u001b[0m\u001b[0;34m.\u001b[0m\u001b[0mwrite_array\u001b[0m\u001b[0;34m(\u001b[0m\u001b[0mdata\u001b[0m\u001b[0;34m)\u001b[0m\u001b[0;34m\u001b[0m\u001b[0;34m\u001b[0m\u001b[0m\n\u001b[0m\u001b[1;32m   2173\u001b[0m             \u001b[0;32melif\u001b[0m \u001b[0mtile\u001b[0m\u001b[0;34m:\u001b[0m\u001b[0;34m\u001b[0m\u001b[0;34m\u001b[0m\u001b[0m\n\u001b[1;32m   2174\u001b[0m                 \u001b[0mtilesize\u001b[0m \u001b[0;34m=\u001b[0m \u001b[0mproduct\u001b[0m\u001b[0;34m(\u001b[0m\u001b[0mtile\u001b[0m\u001b[0;34m)\u001b[0m \u001b[0;34m*\u001b[0m \u001b[0mstoredshape\u001b[0m\u001b[0;34m[\u001b[0m\u001b[0;34m-\u001b[0m\u001b[0;36m1\u001b[0m\u001b[0;34m]\u001b[0m \u001b[0;34m*\u001b[0m \u001b[0mdatadtype\u001b[0m\u001b[0;34m.\u001b[0m\u001b[0mitemsize\u001b[0m\u001b[0;34m\u001b[0m\u001b[0;34m\u001b[0m\u001b[0m\n",
      "\u001b[0;32m~/anaconda3/envs/omeropy/lib/python3.6/site-packages/tifffile/tifffile.py\u001b[0m in \u001b[0;36mwrite_array\u001b[0;34m(self, data)\u001b[0m\n\u001b[1;32m   7541\u001b[0m         \u001b[0;32mexcept\u001b[0m \u001b[0mException\u001b[0m\u001b[0;34m:\u001b[0m\u001b[0;34m\u001b[0m\u001b[0;34m\u001b[0m\u001b[0m\n\u001b[1;32m   7542\u001b[0m             \u001b[0;31m# BytesIO\u001b[0m\u001b[0;34m\u001b[0m\u001b[0;34m\u001b[0m\u001b[0;34m\u001b[0m\u001b[0m\n\u001b[0;32m-> 7543\u001b[0;31m             \u001b[0mself\u001b[0m\u001b[0;34m.\u001b[0m\u001b[0m_fh\u001b[0m\u001b[0;34m.\u001b[0m\u001b[0mwrite\u001b[0m\u001b[0;34m(\u001b[0m\u001b[0mdata\u001b[0m\u001b[0;34m.\u001b[0m\u001b[0mtobytes\u001b[0m\u001b[0;34m(\u001b[0m\u001b[0;34m)\u001b[0m\u001b[0;34m)\u001b[0m\u001b[0;34m\u001b[0m\u001b[0;34m\u001b[0m\u001b[0m\n\u001b[0m\u001b[1;32m   7544\u001b[0m \u001b[0;34m\u001b[0m\u001b[0m\n\u001b[1;32m   7545\u001b[0m     def read_segments(self, offsets, bytecounts, indices=None, sort=True,\n",
      "\u001b[0;31mOSError\u001b[0m: [Errno 28] No space left on device"
     ]
    }
   ],
   "source": [
    "for (name,images) in images_dict.items():\n",
    "        calculate_img_operation(images,name)"
   ]
  },
  {
   "cell_type": "code",
   "execution_count": null,
   "id": "hydraulic-upset",
   "metadata": {},
   "outputs": [],
   "source": []
  }
 ],
 "metadata": {
  "hide_input": false,
  "kernelspec": {
   "display_name": "Python [conda env:omeropy] *",
   "language": "python",
   "name": "conda-env-omeropy-py"
  },
  "language_info": {
   "codemirror_mode": {
    "name": "ipython",
    "version": 3
   },
   "file_extension": ".py",
   "mimetype": "text/x-python",
   "name": "python",
   "nbconvert_exporter": "python",
   "pygments_lexer": "ipython3",
   "version": "3.6.12"
  },
  "toc": {
   "base_numbering": 1,
   "nav_menu": {},
   "number_sections": true,
   "sideBar": true,
   "skip_h1_title": false,
   "title_cell": "Table of Contents",
   "title_sidebar": "Contents",
   "toc_cell": false,
   "toc_position": {},
   "toc_section_display": true,
   "toc_window_display": false
  },
  "varInspector": {
   "cols": {
    "lenName": 16,
    "lenType": 16,
    "lenVar": 40
   },
   "kernels_config": {
    "python": {
     "delete_cmd_postfix": "",
     "delete_cmd_prefix": "del ",
     "library": "var_list.py",
     "varRefreshCmd": "print(var_dic_list())"
    },
    "r": {
     "delete_cmd_postfix": ") ",
     "delete_cmd_prefix": "rm(",
     "library": "var_list.r",
     "varRefreshCmd": "cat(var_dic_list()) "
    }
   },
   "types_to_exclude": [
    "module",
    "function",
    "builtin_function_or_method",
    "instance",
    "_Feature"
   ],
   "window_display": false
  }
 },
 "nbformat": 4,
 "nbformat_minor": 5
}
