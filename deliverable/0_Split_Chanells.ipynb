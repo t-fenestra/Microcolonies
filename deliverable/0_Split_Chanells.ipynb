{
 "cells": [
  {
   "cell_type": "code",
   "execution_count": 12,
   "metadata": {
    "ExecuteTime": {
     "end_time": "2021-01-25T09:57:28.223786Z",
     "start_time": "2021-01-25T09:57:28.219355Z"
    }
   },
   "outputs": [],
   "source": [
    "from glob import glob\n",
    "import numpy as np\n",
    "import matplotlib.pyplot as plt\n",
    "import pandas as pd\n",
    "import seaborn as sns\n",
    "\n",
    "import skimage\n",
    "from skimage import util\n",
    "import skimage.io as io\n",
    "from skimage import exposure\n",
    "\n",
    "import sys"
   ]
  },
  {
   "cell_type": "code",
   "execution_count": 13,
   "metadata": {
    "ExecuteTime": {
     "end_time": "2021-01-25T09:57:35.588895Z",
     "start_time": "2021-01-25T09:57:29.082910Z"
    }
   },
   "outputs": [],
   "source": [
    "file_name=\"42834.tif\"\n",
    "file_name_refix=file_name.split(\".\")[0]\n",
    "file_name_refix=file_name.split(\".\")[0]\n",
    "data=io.imread(\"../data/\"+file_name)\n",
    "\n",
    "print(\"Frames=\"data.shape)"
   ]
  },
  {
   "cell_type": "markdown",
   "metadata": {
    "ExecuteTime": {
     "end_time": "2021-01-25T09:43:46.013424Z",
     "start_time": "2021-01-25T09:43:46.010481Z"
    }
   },
   "source": [
    "## Split chanells"
   ]
  },
  {
   "cell_type": "code",
   "execution_count": 15,
   "metadata": {
    "ExecuteTime": {
     "end_time": "2021-01-25T09:57:38.909156Z",
     "start_time": "2021-01-25T09:57:38.779073Z"
    }
   },
   "outputs": [],
   "source": [
    "chanel_0=data[:,:,:,0]\n",
    "chanel_1=data[:,:,:,1]\n",
    "chanel_2=data[:,:,:,2]"
   ]
  },
  {
   "cell_type": "code",
   "execution_count": 24,
   "metadata": {
    "ExecuteTime": {
     "end_time": "2021-01-25T16:33:23.892460Z",
     "start_time": "2021-01-25T16:33:22.958519Z"
    }
   },
   "outputs": [
    {
     "data": {
      "application/vnd.jupyter.widget-view+json": {
       "model_id": "c7f1b35c6c1448c489b4e9f5bae7124b",
       "version_major": 2,
       "version_minor": 0
      },
      "text/plain": [
       "interactive(children=(IntSlider(value=0, description='t', max=66), Output()), _dom_classes=('widget-interact',…"
      ]
     },
     "metadata": {},
     "output_type": "display_data"
    },
    {
     "data": {
      "text/plain": [
       "<function __main__.plot_frame(t)>"
      ]
     },
     "execution_count": 24,
     "metadata": {},
     "output_type": "execute_result"
    }
   ],
   "source": [
    "from ipywidgets import interact, IntSlider\n",
    "def plot_frame(t):\n",
    "    fig, ax=plt.subplots(nrows=1,ncols=2,figsize=(15,7))\n",
    "    ax[0].imshow(chanel_1[t,:,:])\n",
    "    ax[1].imshow(chanel_2[t,:,:])\n",
    "    \n",
    "interact(plot_frame, t = IntSlider(min=0,max=66,step=1,value=0,continuous_update = True))"
   ]
  },
  {
   "cell_type": "code",
   "execution_count": 16,
   "metadata": {
    "ExecuteTime": {
     "end_time": "2021-01-25T09:57:47.430110Z",
     "start_time": "2021-01-25T09:57:40.818408Z"
    }
   },
   "outputs": [],
   "source": [
    "io.imsave(\"../data/\"+file_name_refix+\"_chanel_0.tif\",chanel_0,check_contrast=False,plugin='tifffile')\n",
    "io.imsave(\"../data/\"+file_name_refix+\"_chanel_1_SideLight.tif\",chanel_1,check_contrast=False,plugin='tifffile')\n",
    "io.imsave(\"../data/\"+file_name_refix+\"_chanel_2_BottomLight.tif\",chanel_2,check_contrast=False,plugin='tifffile')"
   ]
  },
  {
   "cell_type": "code",
   "execution_count": null,
   "metadata": {},
   "outputs": [],
   "source": []
  }
 ],
 "metadata": {
  "hide_input": false,
  "kernelspec": {
   "display_name": "Python [conda env:omeropy] *",
   "language": "python",
   "name": "conda-env-omeropy-py"
  },
  "language_info": {
   "codemirror_mode": {
    "name": "ipython",
    "version": 3
   },
   "file_extension": ".py",
   "mimetype": "text/x-python",
   "name": "python",
   "nbconvert_exporter": "python",
   "pygments_lexer": "ipython3",
   "version": "3.6.12"
  },
  "toc": {
   "base_numbering": 1,
   "nav_menu": {},
   "number_sections": true,
   "sideBar": true,
   "skip_h1_title": false,
   "title_cell": "Table of Contents",
   "title_sidebar": "Contents",
   "toc_cell": false,
   "toc_position": {},
   "toc_section_display": true,
   "toc_window_display": false
  },
  "varInspector": {
   "cols": {
    "lenName": 16,
    "lenType": 16,
    "lenVar": 40
   },
   "kernels_config": {
    "python": {
     "delete_cmd_postfix": "",
     "delete_cmd_prefix": "del ",
     "library": "var_list.py",
     "varRefreshCmd": "print(var_dic_list())"
    },
    "r": {
     "delete_cmd_postfix": ") ",
     "delete_cmd_prefix": "rm(",
     "library": "var_list.r",
     "varRefreshCmd": "cat(var_dic_list()) "
    }
   },
   "types_to_exclude": [
    "module",
    "function",
    "builtin_function_or_method",
    "instance",
    "_Feature"
   ],
   "window_display": false
  }
 },
 "nbformat": 4,
 "nbformat_minor": 4
}
