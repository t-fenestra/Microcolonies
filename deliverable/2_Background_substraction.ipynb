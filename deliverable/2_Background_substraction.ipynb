{
 "cells": [
  {
   "cell_type": "code",
   "execution_count": 1,
   "id": "reserved-navigator",
   "metadata": {
    "ExecuteTime": {
     "end_time": "2021-02-02T22:19:30.235236Z",
     "start_time": "2021-02-02T22:19:28.728983Z"
    }
   },
   "outputs": [],
   "source": [
    "from glob import glob\n",
    "import numpy as np\n",
    "import matplotlib.pyplot as plt\n",
    "import pandas as pd\n",
    "import seaborn as sns\n",
    "\n",
    "import skimage\n",
    "from skimage import util\n",
    "import skimage.io as io\n",
    "from skimage import exposure\n",
    "import cv2 as cv\n",
    "\n",
    "import sys\n",
    "\n",
    "plt.rcParams['figure.figsize'] = (5.0, 4.0) # set default size of plots\n",
    "plt.rcParams['image.interpolation'] = 'nearest'\n",
    "plt.rcParams['image.cmap'] = 'gray'"
   ]
  },
  {
   "cell_type": "code",
   "execution_count": 2,
   "id": "essential-sudan",
   "metadata": {
    "ExecuteTime": {
     "end_time": "2021-02-02T22:19:31.081336Z",
     "start_time": "2021-02-02T22:19:30.662103Z"
    }
   },
   "outputs": [
    {
     "data": {
      "text/plain": [
       "(66, 2208, 2752)"
      ]
     },
     "execution_count": 2,
     "metadata": {},
     "output_type": "execute_result"
    }
   ],
   "source": [
    "file_name=\"42835_chanel_1_SideLight.tif\"\n",
    "Data=io.imread(\"../data/\"+file_name)\n",
    "Data.shape"
   ]
  },
  {
   "cell_type": "markdown",
   "id": "color-smoke",
   "metadata": {},
   "source": [
    "## Function for background substraction"
   ]
  },
  {
   "cell_type": "code",
   "execution_count": 3,
   "id": "changed-dance",
   "metadata": {
    "ExecuteTime": {
     "end_time": "2021-02-02T22:19:46.519450Z",
     "start_time": "2021-02-02T22:19:46.514395Z"
    }
   },
   "outputs": [],
   "source": [
    "def subtract_med_background(img, d=51): \n",
    "    from skimage.morphology import rectangle\n",
    "    from skimage.filters import gaussian,median\n",
    "    \n",
    "    img_conv=util.img_as_float(img)\n",
    "    \n",
    "    # median filter with smoothed with gaussian\n",
    "    selem=rectangle(d,d)\n",
    "    bg = median(img,selem)\n",
    "    bg=gaussian(bg,sigma=3)\n",
    "    \n",
    "    # substract background\n",
    "    img_corrected=img_conv-bg\n",
    "    img_corrected=np.where(img_corrected<0,0,img_corrected)\n",
    "    \n",
    "    return util.img_as_uint(img_corrected),util.img_as_uint(bg)"
   ]
  },
  {
   "cell_type": "markdown",
   "id": "pacific-valley",
   "metadata": {},
   "source": [
    "## Calculate in parallel by  multiprocess"
   ]
  },
  {
   "cell_type": "code",
   "execution_count": 4,
   "id": "fuzzy-notebook",
   "metadata": {
    "ExecuteTime": {
     "end_time": "2021-02-02T22:50:41.987268Z",
     "start_time": "2021-02-02T22:19:48.285823Z"
    }
   },
   "outputs": [],
   "source": [
    "import multiprocess\n",
    "number_of_cpus = multiprocess.cpu_count(); number_of_cpus\n",
    "\n",
    "# make a list with images for multiprocessor\n",
    "img_list=[Data[i] for i in range(Data.shape[0])]\n",
    "\n",
    "pool = multiprocess.Pool(processes=number_of_cpus)\n",
    "result = pool.map(subtract_med_background,img_list)"
   ]
  },
  {
   "cell_type": "markdown",
   "id": "every-mediterranean",
   "metadata": {
    "ExecuteTime": {
     "end_time": "2021-02-04T20:34:32.584770Z",
     "start_time": "2021-02-04T20:34:32.581448Z"
    }
   },
   "source": [
    "## Save results\n"
   ]
  },
  {
   "cell_type": "code",
   "execution_count": 5,
   "id": "stainless-african",
   "metadata": {
    "ExecuteTime": {
     "end_time": "2021-02-02T22:50:47.584589Z",
     "start_time": "2021-02-02T22:50:42.330035Z"
    }
   },
   "outputs": [],
   "source": [
    "bg_file_name=file_name.split(\".\")[0]+\"_\"+\"bg.tif\"\n",
    "corrected_file_name=file_name.split(\".\")[0]+\"_\"+\"corrected.tif\"\n",
    "\n",
    "\n",
    "bg=np.zeros_like(Data)\n",
    "corrected_bg=np.zeros_like(Data)\n",
    "\n",
    "for frame in range(Data.shape[0]):\n",
    "    corrected_bg[frame],bg[frame]=result[frame]\n",
    "\n",
    "io.imsave(\"../data/\"+corrected_file_name,corrected_bg,check_contrast=False,plugin='tifffile')\n",
    "io.imsave(\"../data/\"+bg_file_name,bg,check_contrast=False,plugin='tifffile')\n",
    "\n"
   ]
  }
 ],
 "metadata": {
  "hide_input": false,
  "kernelspec": {
   "display_name": "Python [conda env:omeropy] *",
   "language": "python",
   "name": "conda-env-omeropy-py"
  },
  "language_info": {
   "codemirror_mode": {
    "name": "ipython",
    "version": 3
   },
   "file_extension": ".py",
   "mimetype": "text/x-python",
   "name": "python",
   "nbconvert_exporter": "python",
   "pygments_lexer": "ipython3",
   "version": "3.6.12"
  },
  "toc": {
   "base_numbering": 1,
   "nav_menu": {},
   "number_sections": true,
   "sideBar": true,
   "skip_h1_title": false,
   "title_cell": "Table of Contents",
   "title_sidebar": "Contents",
   "toc_cell": false,
   "toc_position": {},
   "toc_section_display": true,
   "toc_window_display": false
  },
  "varInspector": {
   "cols": {
    "lenName": 16,
    "lenType": 16,
    "lenVar": 40
   },
   "kernels_config": {
    "python": {
     "delete_cmd_postfix": "",
     "delete_cmd_prefix": "del ",
     "library": "var_list.py",
     "varRefreshCmd": "print(var_dic_list())"
    },
    "r": {
     "delete_cmd_postfix": ") ",
     "delete_cmd_prefix": "rm(",
     "library": "var_list.r",
     "varRefreshCmd": "cat(var_dic_list()) "
    }
   },
   "types_to_exclude": [
    "module",
    "function",
    "builtin_function_or_method",
    "instance",
    "_Feature"
   ],
   "window_display": false
  }
 },
 "nbformat": 4,
 "nbformat_minor": 5
}
