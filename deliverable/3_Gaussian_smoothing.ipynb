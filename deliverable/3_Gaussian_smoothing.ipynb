{
 "cells": [
  {
   "cell_type": "code",
   "execution_count": 5,
   "id": "reserved-navigator",
   "metadata": {
    "ExecuteTime": {
     "end_time": "2021-02-04T20:13:30.940756Z",
     "start_time": "2021-02-04T20:13:30.935631Z"
    }
   },
   "outputs": [],
   "source": [
    "from glob import glob\n",
    "import numpy as np\n",
    "import matplotlib.pyplot as plt\n",
    "import pandas as pd\n",
    "import seaborn as sns\n",
    "\n",
    "import skimage\n",
    "from skimage import util\n",
    "import skimage.io as io\n",
    "from skimage import exposure\n",
    "import cv2 as cv\n",
    "\n",
    "import sys\n",
    "\n",
    "plt.rcParams['figure.figsize'] = (5.0, 4.0) # set default size of plots\n",
    "plt.rcParams['image.interpolation'] = 'nearest'\n",
    "plt.rcParams['image.cmap'] = 'gray'"
   ]
  },
  {
   "cell_type": "code",
   "execution_count": 6,
   "id": "thermal-confirmation",
   "metadata": {
    "ExecuteTime": {
     "end_time": "2021-02-04T20:13:35.806703Z",
     "start_time": "2021-02-04T20:13:31.625128Z"
    }
   },
   "outputs": [],
   "source": [
    "SideLight_42835=io.imread(\"../data/42835_chanel_1_SideLight_corrected.tif\")\n",
    "BottomLight_42835=io.imread(\"../data/42835_chanel_2_BottomLight_corrected.tif\")\n",
    "SideLight_42834=io.imread(\"../data/42834_chanel_1_SideLight_corrected.tif\")\n",
    "BottomLight_42834=io.imread(\"../data/42834_chanel_2_BottomLight_corrected.tif\")\n",
    "\n",
    "images_dict={\"42835_chanel_1_SideLight\":SideLight_42835,\n",
    "             \"42835_chanel_2_BottomLight\":BottomLight_42835,\n",
    "             \"42834_chanel_1_SideLight\":SideLight_42834,\n",
    "             \"42834_chanel_2_BottomLight\":BottomLight_42834}"
   ]
  },
  {
   "cell_type": "code",
   "execution_count": 10,
   "id": "essential-sudan",
   "metadata": {
    "ExecuteTime": {
     "end_time": "2021-02-04T20:14:34.860085Z",
     "start_time": "2021-02-04T20:14:34.333993Z"
    }
   },
   "outputs": [
    {
     "data": {
      "text/plain": [
       "(66, 2208, 2752)"
      ]
     },
     "execution_count": 10,
     "metadata": {},
     "output_type": "execute_result"
    }
   ],
   "source": [
    "file_name=\"42835_chanel_1_SideLight.tif\"\n",
    "Data=io.imread(\"../data/\"+file_name)\n",
    "Data.shape"
   ]
  },
  {
   "cell_type": "code",
   "execution_count": 11,
   "id": "printable-lyric",
   "metadata": {
    "ExecuteTime": {
     "end_time": "2021-02-04T20:14:35.838379Z",
     "start_time": "2021-02-04T20:14:35.831308Z"
    }
   },
   "outputs": [],
   "source": [
    "def Gaussian_smooth(img):\n",
    "    from skimage.filters import gaussian\n",
    "    img=gaussian(img,sigma=2)\n",
    "    return util.img_as_uint(img)\n",
    "\n",
    "\n",
    "def calculate_img_operation(img_stack,file_prefix):\n",
    "    \n",
    "    img_list=[img_stack[i] for i in range(img_stack.shape[0])]\n",
    "    \n",
    "    # count on several cores\n",
    "    import multiprocess\n",
    "    number_of_cpus = multiprocess.cpu_count(); \n",
    "    pool = multiprocess.Pool(processes=number_of_cpus)\n",
    "    result = pool.map(Gaussian_smooth,img_list)\n",
    "    \n",
    "    # save to the folder\n",
    "    file_name_prefix=file_prefix+\"corrected_GaussSmooth.tif\"\n",
    "\n",
    "    smoothed=np.zeros_like(img_stack)\n",
    "    for frame in range(img_stack.shape[0]):\n",
    "        smoothed[frame]=result[frame]\n",
    "\n",
    "    io.imsave(\"../data/\"+file_name_prefix,smoothed,check_contrast=False,plugin='tifffile')"
   ]
  },
  {
   "cell_type": "code",
   "execution_count": 12,
   "id": "smooth-elizabeth",
   "metadata": {
    "ExecuteTime": {
     "end_time": "2021-02-04T20:15:42.102323Z",
     "start_time": "2021-02-04T20:14:43.106770Z"
    }
   },
   "outputs": [],
   "source": [
    " for (name,images) in images_dict.items():\n",
    "        calculate_img_operation(images,name)"
   ]
  }
 ],
 "metadata": {
  "hide_input": false,
  "kernelspec": {
   "display_name": "Python [conda env:omeropy] *",
   "language": "python",
   "name": "conda-env-omeropy-py"
  },
  "language_info": {
   "codemirror_mode": {
    "name": "ipython",
    "version": 3
   },
   "file_extension": ".py",
   "mimetype": "text/x-python",
   "name": "python",
   "nbconvert_exporter": "python",
   "pygments_lexer": "ipython3",
   "version": "3.6.12"
  },
  "toc": {
   "base_numbering": 1,
   "nav_menu": {},
   "number_sections": true,
   "sideBar": true,
   "skip_h1_title": false,
   "title_cell": "Table of Contents",
   "title_sidebar": "Contents",
   "toc_cell": false,
   "toc_position": {},
   "toc_section_display": true,
   "toc_window_display": false
  },
  "varInspector": {
   "cols": {
    "lenName": 16,
    "lenType": 16,
    "lenVar": 40
   },
   "kernels_config": {
    "python": {
     "delete_cmd_postfix": "",
     "delete_cmd_prefix": "del ",
     "library": "var_list.py",
     "varRefreshCmd": "print(var_dic_list())"
    },
    "r": {
     "delete_cmd_postfix": ") ",
     "delete_cmd_prefix": "rm(",
     "library": "var_list.r",
     "varRefreshCmd": "cat(var_dic_list()) "
    }
   },
   "types_to_exclude": [
    "module",
    "function",
    "builtin_function_or_method",
    "instance",
    "_Feature"
   ],
   "window_display": false
  }
 },
 "nbformat": 4,
 "nbformat_minor": 5
}
